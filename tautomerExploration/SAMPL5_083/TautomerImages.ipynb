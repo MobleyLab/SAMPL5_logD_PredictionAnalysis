{
 "cells": [
  {
   "cell_type": "code",
   "execution_count": 1,
   "metadata": {
    "collapsed": false
   },
   "outputs": [
    {
     "name": "stdout",
     "output_type": "stream",
     "text": [
      "Populating the interactive namespace from numpy and matplotlib\n"
     ]
    },
    {
     "name": "stderr",
     "output_type": "stream",
     "text": [
      "WARNING: pylab import has clobbered these variables: ['Text', 'Arrow']\n",
      "`%matplotlib` prevents importing * from pylab and numpy\n"
     ]
    }
   ],
   "source": [
    "import mdtraj as md\n",
    "import numpy as np\n",
    "from openeye.oechem import *\n",
    "from openeye.oeiupac import *\n",
    "from openeye.oedepict import *\n",
    "from openeye.oegrapheme import *\n",
    "import pickle\n",
    "# import matplotlib\n",
    "# matplotlib.use('Agg')\n",
    "%pylab inline\n"
   ]
  },
  {
   "cell_type": "code",
   "execution_count": 2,
   "metadata": {
    "collapsed": false
   },
   "outputs": [],
   "source": [
    "def MakePNGRotatingBonds(mol, fileName, supressH = True, ifnums = True):\n",
    "    OEPrepareDepiction(mol, False, supressH)\n",
    "    opts = OE2DMolDisplayOptions(1200, 800, OEScale_AutoScale)\n",
    "    opts.SetTitleLocation(OETitleLocation_Hidden)\n",
    "    font = OEFont()\n",
    "    #font.SetStyle(OEFontStyle_Bold)\n",
    "    if ifnums:\n",
    "        font.SetColor(OEDarkGreen)\n",
    "        opts.SetAtomPropLabelFont(font)\n",
    "        opts.SetAtomPropertyFunctor(OEDisplayAtomIdx())\n",
    "    disp = OE2DMolDisplay(mol, opts)\n",
    "\n",
    "    # pen = OEPen(OEDarkPurple, OEDarkPurple, OEFill_Off, 2.0)\n",
    "    # glyph = OEBondGlyphArrow(pen, 0.5)\n",
    "    # OEAddGlyph(disp, glyph, OEIsRotor())\n",
    "\n",
    "    OERenderMolecule(fileName, disp)\n",
    "    "
   ]
  },
  {
   "cell_type": "code",
   "execution_count": 4,
   "metadata": {
    "collapsed": false
   },
   "outputs": [
    {
     "name": "stdout",
     "output_type": "stream",
     "text": [
      "O1/C=C/[C@H](OC)[C@@H](C)[C@@H](OC(=O)C)[C@H](C)[C@H](O)[C@H](C)[C@@H](O)[C@@H](C)/C=C/C=C(C)\\C(=O)Nc(c2O)c(CNN3CCN(C)CC3)c(O)c4c2c(O)c(C)c(O5)c4C(=O)[C@@]15C\n",
      "Help on function OEPrepareDepiction in module openeye.oedepict:\n",
      "\n",
      "OEPrepareDepiction(*args)\n",
      "    OEPrepareDepiction(OEMolBase mol, bool clearcoords=False, bool suppressH=True) -> bool\n",
      "    OEPrepareDepiction(OEMolBase mol, bool clearcoords=False) -> bool\n",
      "    OEPrepareDepiction(OEMolBase mol) -> bool\n",
      "    OEPrepareDepiction(OEMolBase mol, OEPrepareDepictionOptions opts) -> bool\n",
      "\n"
     ]
    }
   ],
   "source": [
    "data = pickle.load(open(\"../tautDictionary.p\",'rb'))\n",
    "smile = data['SAMPL5_083']['Smiles']\n",
    "print smile\n",
    "mol = OEMol()\n",
    "OEParseSmiles(mol, smile)\n",
    "help(OEPrepareDepiction)\n",
    "MakePNGRotatingBonds(mol, \"SMAPL_083_smileFromMaestro.png\", supressH = False, ifnums = False)"
   ]
  },
  {
   "cell_type": "markdown",
   "metadata": {},
   "source": [
    "##c0 converted to SMILE in maestro 2d image from openeye\n",
    "<img src=\"SMAPL_083_smileFromMaestro.png\">"
   ]
  },
  {
   "cell_type": "code",
   "execution_count": 4,
   "metadata": {
    "collapsed": false
   },
   "outputs": [],
   "source": [
    "\n",
    "if1 = oemolistream()\n",
    "if1.SetFormat(OEFormat_MOL2)\n",
    "if1.open(fileName)\n",
    "mol1 = OEMol()\n",
    "OEReadMolecule(if1, mol1)\n",
    "MakePNGRotatingBonds(mol1, \"%s_2d.png\" % fileName.split('.')[0], ifnums = False)"
   ]
  },
  {
   "cell_type": "markdown",
   "metadata": {},
   "source": [
    "##c0 converted to SMILE in maestro to mol2 with Solvation Toolkit\n",
    "<img src=\"SAMPL5_083_from_c10_c0xyz_2d.png\">"
   ]
  },
  {
   "cell_type": "code",
   "execution_count": null,
   "metadata": {
    "collapsed": false
   },
   "outputs": [],
   "source": [
    "Files = [\"SAMPL5_083.mol2\",\"SAMPL5_083_c10_c0.mol2\" \"SAMPL5_083_c10_c0.xyz\", \"SAMPL5_083_c10_c1.xyz\"]\n",
    "types = [OEFormat_MOL2, OEFormat_MOL2, OEFormat_XYZ, OEFormat_XYZ]\n",
    "\n",
    "for idx, inputFile in enumerate(Files):\n",
    "    f = inputFile.split('.')[0]\n",
    "    ifs = oemolistream()\n",
    "    ifs.SetFormat(types[idx])\n",
    "    ifs.open(inputFile)\n",
    "    mol2 = OEMol()\n",
    "    OEReadMolecule(ifs, mol2)\n",
    "    MakePNGRotatingBonds(mol2, '%s_nolabels.png' % f, ifnums = False)\n",
    "    if inputFile.split('.')[1] != 'mol2':\n",
    "        ofs = oemolostream()\n",
    "        ofs.SetFormat(OEFormat_MOL2)\n",
    "        ofs.open(\"%s.mol2\" % f)\n",
    "        OEWriteMolecule(ofs, mol2)\n"
   ]
  },
  {
   "cell_type": "markdown",
   "metadata": {},
   "source": [
    "##Original mol2 file\n",
    "<img src=\"SAMPL5_083.png\">\n",
    "\n",
    "##c0 from Klamt\n",
    "<img src=\"SAMPL5_083_c10_c0.png\">\n",
    "\n",
    "##c1 from Klamt\n",
    "<img src=\"SAMPL5_083_c10_c1.png\">\n",
    "\n",
    "##Original mol2 file\n",
    "<img src=\"SAMPL5_083_nolabels.png\">\n",
    "\n",
    "##c0 from Klamt\n",
    "<img src=\"SAMPL5_083_c10_c0_nolabels.png\">\n",
    "\n",
    "##c1 from Klamt\n",
    "<img src=\"SAMPL5_083_c10_c1_nolabels.png\">"
   ]
  },
  {
   "cell_type": "code",
   "execution_count": 92,
   "metadata": {
    "collapsed": false
   },
   "outputs": [
    {
     "data": {
      "text/plain": [
       "7"
      ]
     },
     "execution_count": 92,
     "metadata": {},
     "output_type": "execute_result"
    }
   ],
   "source": [
    "diAngles = [[56, 55, 48, 46], [53, 44, 43, 15], [44, 43, 15, 14], [4,2,1,0], [21,19,27,28], [19,27,28,36], [41,40,31,30]]\n",
    "len(diAngles)"
   ]
  },
  {
   "cell_type": "code",
   "execution_count": 90,
   "metadata": {
    "collapsed": false
   },
   "outputs": [],
   "source": [
    "def makePlots(molecule, atomList, bins = 20):\n",
    "    angles = md.compute_dihedrals(molecule, atomList)\n",
    "    time = molecule.time\n",
    "    average = np.average(angles)\n",
    "    averages = [average for t in time]\n",
    "    fig1 = Plot([time, time], [angles, averages], 'This is a title', 'time (ps)', 'dihedral angle (O53-C44-O43-C15)', \n",
    "                labels = ['dihedral angles','average angle'], symbols = ['r.', 'k-'])\n",
    "    show(fig1)\n",
    "    fig1.clf()\n",
    "    hist = np.histogram(angles, bins = bins, range=(-np.pi, np.pi))\n",
    "    norm = hist[0] / float(len(angles)) * 100.0\n",
    "    buckets = 0.5* (hist[1][1:] + hist[1][:-1])\n",
    "    hist_plot = Plot(buckets, hist[0], 'Histogram','angle (radians)', '% of occurances')\n",
    "    show(hist_plot)"
   ]
  },
  {
   "cell_type": "code",
   "execution_count": 6,
   "metadata": {
    "collapsed": false
   },
   "outputs": [
    {
     "name": "stdout",
     "output_type": "stream",
     "text": [
      "O1/C=C/[C@H](OC)[C@@H](C)[C@@H](OC(=O)C)[C@H](C)[C@H](O)[C@H](C)[C@@H](O)[C@@H](C)/C=C/C=C(C)\\C(=O)NC(=C2O)/C(=C\\NN3CCN(C)CC3)C(=O)C4=C2C(=O)C(C)=C(O5)C4=C(O)[C@@]15C\n"
     ]
    },
    {
     "data": {
      "text/plain": [
       "0"
      ]
     },
     "execution_count": 6,
     "metadata": {},
     "output_type": "execute_result"
    }
   ],
   "source": [
    "f = open(\"SAMPL5_083_KlamtByHand.smi\")\n",
    "smile = f.readlines()[0].split(' ')[0].strip()\n",
    "f.close\n",
    "print smile\n",
    "\n",
    "mol = OEMol()\n",
    "OEParseSmiles(mol, smile)\n",
    "MakePNGRotatingBonds(mol, \"SMAPL5_083_conformer2.png\", supressH = True, ifnums = False)\n",
    "\n",
    "ofs = oemolostream()\n",
    "ofs.SetFormat(OEFormat_MOL2)\n",
    "ofs.open(\"SAMPL5_083_conformer2.mol2\")\n",
    "OEWriteMolecule(ofs, mol)"
   ]
  },
  {
   "cell_type": "markdown",
   "metadata": {},
   "source": [
    "<img src=\"SMAPL5_083_conformer2.png\">"
   ]
  },
  {
   "cell_type": "code",
   "execution_count": 2,
   "metadata": {
    "collapsed": false
   },
   "outputs": [
    {
     "data": {
      "text/plain": [
       "0"
      ]
     },
     "execution_count": 2,
     "metadata": {},
     "output_type": "execute_result"
    }
   ],
   "source": [
    "smile = 'c1cc(C)nc(c12)nn3c2[nH]c(C)cc3=O'\n",
    "\n",
    "mol = OEMol()\n",
    "OEParseSmiles(mol, smile)\n",
    "\n",
    "ofs = oemolostream()\n",
    "ofs.SetFormat(OEFormat_MOL2)\n",
    "ofs.open(\"SAMPL5_050_conformer2.mol2\")\n",
    "OEWriteMolecule(ofs, mol)"
   ]
  },
  {
   "cell_type": "code",
   "execution_count": null,
   "metadata": {
    "collapsed": true
   },
   "outputs": [],
   "source": []
  }
 ],
 "metadata": {
  "kernelspec": {
   "display_name": "Python 2",
   "language": "python",
   "name": "python2"
  },
  "language_info": {
   "codemirror_mode": {
    "name": "ipython",
    "version": 2
   },
   "file_extension": ".py",
   "mimetype": "text/x-python",
   "name": "python",
   "nbconvert_exporter": "python",
   "pygments_lexer": "ipython2",
   "version": "2.7.11"
  }
 },
 "nbformat": 4,
 "nbformat_minor": 0
}
